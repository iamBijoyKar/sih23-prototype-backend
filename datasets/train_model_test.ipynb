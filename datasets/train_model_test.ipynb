{
 "cells": [
  {
   "cell_type": "code",
   "execution_count": 48,
   "metadata": {},
   "outputs": [],
   "source": [
    "import pandas as pd\n",
    "import numpy as np\n",
    "import matplotlib.pyplot as plt\n",
    "import seaborn as sns\n",
    "import pickle\n",
    "from sklearn.metrics import confusion_matrix, classification_report, accuracy_score\n",
    "from sklearn.model_selection import train_test_split\n",
    "from sklearn.preprocessing import StandardScaler,OneHotEncoder\n",
    "from sklearn.ensemble import RandomForestClassifier\n",
    "from sklearn.impute import SimpleImputer\n",
    "from sklearn.base import BaseEstimator, TransformerMixin"
   ]
  },
  {
   "cell_type": "code",
   "execution_count": 49,
   "metadata": {},
   "outputs": [
    {
     "data": {
      "text/html": [
       "<div>\n",
       "<style scoped>\n",
       "    .dataframe tbody tr th:only-of-type {\n",
       "        vertical-align: middle;\n",
       "    }\n",
       "\n",
       "    .dataframe tbody tr th {\n",
       "        vertical-align: top;\n",
       "    }\n",
       "\n",
       "    .dataframe thead th {\n",
       "        text-align: right;\n",
       "    }\n",
       "</style>\n",
       "<table border=\"1\" class=\"dataframe\">\n",
       "  <thead>\n",
       "    <tr style=\"text-align: right;\">\n",
       "      <th></th>\n",
       "      <th>Area</th>\n",
       "      <th>Zone</th>\n",
       "      <th>Time</th>\n",
       "      <th>People.Frequency</th>\n",
       "      <th>Is.Police_Station</th>\n",
       "      <th>Is.Bar</th>\n",
       "      <th>Tier</th>\n",
       "      <th>Residence.Level</th>\n",
       "      <th>Class</th>\n",
       "    </tr>\n",
       "  </thead>\n",
       "  <tbody>\n",
       "    <tr>\n",
       "      <th>0</th>\n",
       "      <td>Ramapuram</td>\n",
       "      <td>Aanandam Nagar</td>\n",
       "      <td>Morning</td>\n",
       "      <td>Medium</td>\n",
       "      <td>Yes</td>\n",
       "      <td>No</td>\n",
       "      <td>Middle</td>\n",
       "      <td>Medium</td>\n",
       "      <td>Safe</td>\n",
       "    </tr>\n",
       "    <tr>\n",
       "      <th>1</th>\n",
       "      <td>Ramapuram</td>\n",
       "      <td>Aanandam Nagar</td>\n",
       "      <td>Afternoon</td>\n",
       "      <td>High</td>\n",
       "      <td>Yes</td>\n",
       "      <td>No</td>\n",
       "      <td>Middle</td>\n",
       "      <td>Medium</td>\n",
       "      <td>Safe</td>\n",
       "    </tr>\n",
       "    <tr>\n",
       "      <th>2</th>\n",
       "      <td>Ramapuram</td>\n",
       "      <td>Aanandam Nagar</td>\n",
       "      <td>Evening</td>\n",
       "      <td>Medium</td>\n",
       "      <td>Yes</td>\n",
       "      <td>No</td>\n",
       "      <td>Middle</td>\n",
       "      <td>Medium</td>\n",
       "      <td>Safe</td>\n",
       "    </tr>\n",
       "    <tr>\n",
       "      <th>3</th>\n",
       "      <td>Ramapuram</td>\n",
       "      <td>Aanandam Nagar</td>\n",
       "      <td>Night</td>\n",
       "      <td>Low</td>\n",
       "      <td>Yes</td>\n",
       "      <td>No</td>\n",
       "      <td>Middle</td>\n",
       "      <td>Medium</td>\n",
       "      <td>Safe</td>\n",
       "    </tr>\n",
       "    <tr>\n",
       "      <th>4</th>\n",
       "      <td>Ramapuram</td>\n",
       "      <td>Ambal Nagar</td>\n",
       "      <td>Morning</td>\n",
       "      <td>Medium</td>\n",
       "      <td>No</td>\n",
       "      <td>No</td>\n",
       "      <td>Outer</td>\n",
       "      <td>Medium</td>\n",
       "      <td>Safe</td>\n",
       "    </tr>\n",
       "  </tbody>\n",
       "</table>\n",
       "</div>"
      ],
      "text/plain": [
       "        Area            Zone       Time People.Frequency Is.Police_Station  \\\n",
       "0  Ramapuram  Aanandam Nagar    Morning           Medium               Yes   \n",
       "1  Ramapuram  Aanandam Nagar  Afternoon             High               Yes   \n",
       "2  Ramapuram  Aanandam Nagar    Evening           Medium               Yes   \n",
       "3  Ramapuram  Aanandam Nagar      Night              Low               Yes   \n",
       "4  Ramapuram     Ambal Nagar    Morning           Medium                No   \n",
       "\n",
       "  Is.Bar    Tier Residence.Level Class  \n",
       "0     No  Middle          Medium  Safe  \n",
       "1     No  Middle          Medium  Safe  \n",
       "2     No  Middle          Medium  Safe  \n",
       "3     No  Middle          Medium  Safe  \n",
       "4     No   Outer          Medium  Safe  "
      ]
     },
     "execution_count": 49,
     "metadata": {},
     "output_type": "execute_result"
    }
   ],
   "source": [
    "data = pd.read_excel('Sexual_Harassment_Data_for_Machine_Learning_Project.xlsx')\n",
    "data.head()"
   ]
  },
  {
   "cell_type": "code",
   "execution_count": 50,
   "metadata": {},
   "outputs": [
    {
     "name": "stdout",
     "output_type": "stream",
     "text": [
      "<class 'pandas.core.frame.DataFrame'>\n",
      "RangeIndex: 104 entries, 0 to 103\n",
      "Data columns (total 9 columns):\n",
      " #   Column             Non-Null Count  Dtype \n",
      "---  ------             --------------  ----- \n",
      " 0   Area               104 non-null    object\n",
      " 1   Zone               104 non-null    object\n",
      " 2   Time               104 non-null    object\n",
      " 3   People.Frequency   104 non-null    object\n",
      " 4   Is.Police_Station  104 non-null    object\n",
      " 5   Is.Bar             104 non-null    object\n",
      " 6   Tier               104 non-null    object\n",
      " 7   Residence.Level    104 non-null    object\n",
      " 8   Class              104 non-null    object\n",
      "dtypes: object(9)\n",
      "memory usage: 7.4+ KB\n"
     ]
    }
   ],
   "source": [
    "data.info()"
   ]
  },
  {
   "cell_type": "code",
   "execution_count": 51,
   "metadata": {},
   "outputs": [],
   "source": [
    "# Pipeline for numerical data\n",
    "\n",
    "class NameDropper(BaseEstimator, TransformerMixin):\n",
    "    def fit(self, X, y=None):\n",
    "        return self\n",
    "    def transform(self, X):\n",
    "        return X.drop(['Zone','Area'], axis=1)\n",
    "    \n",
    "class Imputer(BaseEstimator, TransformerMixin):\n",
    "    def fit(self, X, y=None):\n",
    "        return self\n",
    "    def transform(self, X):\n",
    "        imputer = SimpleImputer(strategy='median')\n",
    "        imputer.fit(X)\n",
    "        return imputer.transform(X)\n",
    "    \n",
    "class FeatureToNum(BaseEstimator, TransformerMixin):\n",
    "    def fit(self, X, y=None):\n",
    "        return self\n",
    "    def transform(self, X):\n",
    "        en_list = [\"Is.Police_Station\",\"Is.Bar\"]\n",
    "        temp = []\n",
    "        idx = 0\n",
    "        for str in en_list:\n",
    "            for val in X[str].tolist():\n",
    "                temp.append(1 if val==\"Yes\" else 0)\n",
    "            X[en_list[idx]] = pd.Series(temp)            \n",
    "            temp = []\n",
    "            idx += 1\n",
    "        \n",
    "        for val in X[\"Class\"].tolist():\n",
    "            temp.append(1 if val==\"Safe\" else 0)\n",
    "        X[\"Class\"] = pd.Series(temp)            \n",
    "        temp = []\n",
    "\n",
    "        return X\n",
    "        \n",
    "\n",
    "    \n",
    "class FeatureEncode(BaseEstimator, TransformerMixin):\n",
    "    def fit(self, X, y=None):\n",
    "        return self\n",
    "    def transform(self, X):\n",
    "        encoder = OneHotEncoder()\n",
    "        timeMatrix = encoder.fit_transform(X[['Time']]).toarray()\n",
    "        pfMatrix = encoder.fit_transform(X[['People.Frequency']]).toarray()\n",
    "        tierMatrix = encoder.fit_transform(X[['Tier']]).toarray()\n",
    "        resiMatrix = encoder.fit_transform(X[['Residence.Level']]).toarray()\n",
    "\n",
    "        timeCol = X['Time'].unique()\n",
    "        pfCol = X['People.Frequency'].unique()\n",
    "        tierCol = X['Tier'].unique()\n",
    "        resiCol = X['Residence.Level'].unique()\n",
    "\n",
    "        for i in range(len(timeCol)):\n",
    "            X[timeCol[i]] = timeMatrix.T[i]\n",
    "        \n",
    "        for i in range(len(pfCol)):\n",
    "            X[pfCol[i]] = pfMatrix.T[i]\n",
    "        \n",
    "        for i in range(len(tierCol)):\n",
    "            X[tierCol[i]] = tierMatrix.T[i]\n",
    "        \n",
    "        for i in range(len(resiCol)):\n",
    "            X[resiCol[i]] = resiMatrix.T[i]\n",
    "\n",
    "        return X.drop(['Time', 'People.Frequency', 'Tier', 'Residence.Level'], axis=1)\n",
    "    "
   ]
  },
  {
   "cell_type": "code",
   "execution_count": 52,
   "metadata": {},
   "outputs": [],
   "source": [
    "# Pipeline for text data\n",
    "\n",
    "from sklearn.feature_extraction.text import CountVectorizer,TfidfTransformer\n",
    "\n",
    "class TextFeatureEncode(BaseEstimator, TransformerMixin):\n",
    "    def fit(self, X, y=None):\n",
    "        return self\n",
    "    def transform(self, X):\n",
    "        countVec = CountVectorizer()\n",
    "        cvCount =  countVec.fit_transform(X[\"Area\"])\n",
    "        tfidf = TfidfTransformer()\n",
    "        tfidfCount = tfidf.fit_transform(cvCount)\n",
    "        X[\"Area\"] = tfidfCount.toarray().tolist()\n",
    "        return X"
   ]
  },
  {
   "cell_type": "code",
   "execution_count": 61,
   "metadata": {},
   "outputs": [],
   "source": [
    "from sklearn.pipeline import Pipeline\n",
    "\n",
    "num_pipeline = Pipeline([\n",
    "    ('name_dropper', NameDropper()),\n",
    "    ('feature_encode', FeatureEncode()),\n",
    "    ('feature_to_num', FeatureToNum()),\n",
    "    # ('text_feature_encode', TextFeatureEncode()),\n",
    "])\n",
    "\n",
    "filteredData  = num_pipeline.fit_transform(data).head(30)\n",
    "\n"
   ]
  },
  {
   "cell_type": "code",
   "execution_count": 62,
   "metadata": {},
   "outputs": [
    {
     "name": "stdout",
     "output_type": "stream",
     "text": [
      "<class 'pandas.core.frame.DataFrame'>\n",
      "RangeIndex: 30 entries, 0 to 29\n",
      "Data columns (total 13 columns):\n",
      " #   Column             Non-Null Count  Dtype  \n",
      "---  ------             --------------  -----  \n",
      " 0   Is.Police_Station  30 non-null     int64  \n",
      " 1   Is.Bar             30 non-null     int64  \n",
      " 2   Class              30 non-null     int64  \n",
      " 3   Morning            30 non-null     float64\n",
      " 4   Afternoon          30 non-null     float64\n",
      " 5   Evening            30 non-null     float64\n",
      " 6   Night              30 non-null     float64\n",
      " 7   Medium             30 non-null     float64\n",
      " 8   High               30 non-null     float64\n",
      " 9   Low                30 non-null     float64\n",
      " 10  Middle             30 non-null     float64\n",
      " 11  Outer              30 non-null     float64\n",
      " 12  Inner              30 non-null     float64\n",
      "dtypes: float64(10), int64(3)\n",
      "memory usage: 3.2 KB\n"
     ]
    }
   ],
   "source": [
    "# Train test split\n",
    "\n",
    "X = filteredData.drop(['Class'], axis=1)\n",
    "y = filteredData['Class']\n",
    "\n",
    "X_train, X_test, y_train, y_test = train_test_split(X, y, test_size=0.2, random_state=42)\n",
    "filteredData.info()"
   ]
  },
  {
   "cell_type": "code",
   "execution_count": 63,
   "metadata": {},
   "outputs": [
    {
     "data": {
      "text/html": [
       "<style>#sk-container-id-1 {color: black;background-color: white;}#sk-container-id-1 pre{padding: 0;}#sk-container-id-1 div.sk-toggleable {background-color: white;}#sk-container-id-1 label.sk-toggleable__label {cursor: pointer;display: block;width: 100%;margin-bottom: 0;padding: 0.3em;box-sizing: border-box;text-align: center;}#sk-container-id-1 label.sk-toggleable__label-arrow:before {content: \"▸\";float: left;margin-right: 0.25em;color: #696969;}#sk-container-id-1 label.sk-toggleable__label-arrow:hover:before {color: black;}#sk-container-id-1 div.sk-estimator:hover label.sk-toggleable__label-arrow:before {color: black;}#sk-container-id-1 div.sk-toggleable__content {max-height: 0;max-width: 0;overflow: hidden;text-align: left;background-color: #f0f8ff;}#sk-container-id-1 div.sk-toggleable__content pre {margin: 0.2em;color: black;border-radius: 0.25em;background-color: #f0f8ff;}#sk-container-id-1 input.sk-toggleable__control:checked~div.sk-toggleable__content {max-height: 200px;max-width: 100%;overflow: auto;}#sk-container-id-1 input.sk-toggleable__control:checked~label.sk-toggleable__label-arrow:before {content: \"▾\";}#sk-container-id-1 div.sk-estimator input.sk-toggleable__control:checked~label.sk-toggleable__label {background-color: #d4ebff;}#sk-container-id-1 div.sk-label input.sk-toggleable__control:checked~label.sk-toggleable__label {background-color: #d4ebff;}#sk-container-id-1 input.sk-hidden--visually {border: 0;clip: rect(1px 1px 1px 1px);clip: rect(1px, 1px, 1px, 1px);height: 1px;margin: -1px;overflow: hidden;padding: 0;position: absolute;width: 1px;}#sk-container-id-1 div.sk-estimator {font-family: monospace;background-color: #f0f8ff;border: 1px dotted black;border-radius: 0.25em;box-sizing: border-box;margin-bottom: 0.5em;}#sk-container-id-1 div.sk-estimator:hover {background-color: #d4ebff;}#sk-container-id-1 div.sk-parallel-item::after {content: \"\";width: 100%;border-bottom: 1px solid gray;flex-grow: 1;}#sk-container-id-1 div.sk-label:hover label.sk-toggleable__label {background-color: #d4ebff;}#sk-container-id-1 div.sk-serial::before {content: \"\";position: absolute;border-left: 1px solid gray;box-sizing: border-box;top: 0;bottom: 0;left: 50%;z-index: 0;}#sk-container-id-1 div.sk-serial {display: flex;flex-direction: column;align-items: center;background-color: white;padding-right: 0.2em;padding-left: 0.2em;position: relative;}#sk-container-id-1 div.sk-item {position: relative;z-index: 1;}#sk-container-id-1 div.sk-parallel {display: flex;align-items: stretch;justify-content: center;background-color: white;position: relative;}#sk-container-id-1 div.sk-item::before, #sk-container-id-1 div.sk-parallel-item::before {content: \"\";position: absolute;border-left: 1px solid gray;box-sizing: border-box;top: 0;bottom: 0;left: 50%;z-index: -1;}#sk-container-id-1 div.sk-parallel-item {display: flex;flex-direction: column;z-index: 1;position: relative;background-color: white;}#sk-container-id-1 div.sk-parallel-item:first-child::after {align-self: flex-end;width: 50%;}#sk-container-id-1 div.sk-parallel-item:last-child::after {align-self: flex-start;width: 50%;}#sk-container-id-1 div.sk-parallel-item:only-child::after {width: 0;}#sk-container-id-1 div.sk-dashed-wrapped {border: 1px dashed gray;margin: 0 0.4em 0.5em 0.4em;box-sizing: border-box;padding-bottom: 0.4em;background-color: white;}#sk-container-id-1 div.sk-label label {font-family: monospace;font-weight: bold;display: inline-block;line-height: 1.2em;}#sk-container-id-1 div.sk-label-container {text-align: center;}#sk-container-id-1 div.sk-container {/* jupyter's `normalize.less` sets `[hidden] { display: none; }` but bootstrap.min.css set `[hidden] { display: none !important; }` so we also need the `!important` here to be able to override the default hidden behavior on the sphinx rendered scikit-learn.org. See: https://github.com/scikit-learn/scikit-learn/issues/21755 */display: inline-block !important;position: relative;}#sk-container-id-1 div.sk-text-repr-fallback {display: none;}</style><div id=\"sk-container-id-1\" class=\"sk-top-container\"><div class=\"sk-text-repr-fallback\"><pre>LogisticRegression()</pre><b>In a Jupyter environment, please rerun this cell to show the HTML representation or trust the notebook. <br />On GitHub, the HTML representation is unable to render, please try loading this page with nbviewer.org.</b></div><div class=\"sk-container\" hidden><div class=\"sk-item\"><div class=\"sk-estimator sk-toggleable\"><input class=\"sk-toggleable__control sk-hidden--visually\" id=\"sk-estimator-id-1\" type=\"checkbox\" checked><label for=\"sk-estimator-id-1\" class=\"sk-toggleable__label sk-toggleable__label-arrow\">LogisticRegression</label><div class=\"sk-toggleable__content\"><pre>LogisticRegression()</pre></div></div></div></div></div>"
      ],
      "text/plain": [
       "LogisticRegression()"
      ]
     },
     "execution_count": 63,
     "metadata": {},
     "output_type": "execute_result"
    }
   ],
   "source": [
    "# Train model\n",
    "\n",
    "from sklearn.linear_model import LogisticRegression\n",
    "\n",
    "log_reg = LogisticRegression()\n",
    "log_reg.fit(X_train, y_train)"
   ]
  },
  {
   "cell_type": "code",
   "execution_count": 65,
   "metadata": {},
   "outputs": [
    {
     "data": {
      "text/plain": [
       "array([0, 0, 1, 1, 1, 1], dtype=int64)"
      ]
     },
     "execution_count": 65,
     "metadata": {},
     "output_type": "execute_result"
    }
   ],
   "source": [
    "# Test model\n",
    "\n",
    "y_pred = log_reg.predict(X_test)\n",
    "y_pred"
   ]
  },
  {
   "cell_type": "code",
   "execution_count": 66,
   "metadata": {},
   "outputs": [
    {
     "name": "stdout",
     "output_type": "stream",
     "text": [
      "[[2 0]\n",
      " [0 4]]\n",
      "              precision    recall  f1-score   support\n",
      "\n",
      "           0       1.00      1.00      1.00         2\n",
      "           1       1.00      1.00      1.00         4\n",
      "\n",
      "    accuracy                           1.00         6\n",
      "   macro avg       1.00      1.00      1.00         6\n",
      "weighted avg       1.00      1.00      1.00         6\n",
      "\n",
      "1.0\n"
     ]
    }
   ],
   "source": [
    "# Evaluate model\n",
    "\n",
    "print(confusion_matrix(y_test, y_pred))\n",
    "print(classification_report(y_test, y_pred))\n",
    "print(accuracy_score(y_test, y_pred))\n"
   ]
  },
  {
   "cell_type": "code",
   "execution_count": null,
   "metadata": {},
   "outputs": [],
   "source": []
  }
 ],
 "metadata": {
  "kernelspec": {
   "display_name": "Python 3",
   "language": "python",
   "name": "python3"
  },
  "language_info": {
   "codemirror_mode": {
    "name": "ipython",
    "version": 3
   },
   "file_extension": ".py",
   "mimetype": "text/x-python",
   "name": "python",
   "nbconvert_exporter": "python",
   "pygments_lexer": "ipython3",
   "version": "3.10.5"
  },
  "orig_nbformat": 4
 },
 "nbformat": 4,
 "nbformat_minor": 2
}
